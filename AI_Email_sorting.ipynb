{
  "nbformat": 4,
  "nbformat_minor": 0,
  "metadata": {
    "colab": {
      "provenance": []
    },
    "kernelspec": {
      "name": "python3",
      "display_name": "Python 3"
    },
    "language_info": {
      "name": "python"
    }
  },
  "cells": [
    {
      "cell_type": "code",
      "execution_count": 2,
      "metadata": {
        "colab": {
          "base_uri": "https://localhost:8080/"
        },
        "id": "kr4rnkZ0_Mj8",
        "outputId": "a1c5b62a-d37b-4510-eeb4-f47a2881b40d"
      },
      "outputs": [
        {
          "output_type": "stream",
          "name": "stdout",
          "text": [
            "Email: 'Urgent: Project deadline extension' => Predicted Category: 'work'\n",
            "Email: 'Family gathering this Sunday' => Predicted Category: 'work'\n",
            "Email: 'Limited time offer: Buy one, get one free' => Predicted Category: 'work'\n"
          ]
        }
      ],
      "source": [
        "#AI BASED EMAIL SORTING System\n",
        "import pandas as pd\n",
        "from sklearn.model_selection import train_test_split\n",
        "from sklearn.feature_extraction.text import CountVectorizer\n",
        "from sklearn.naive_bayes import MultinomialNB\n",
        "from sklearn.metrics import accuracy_score\n",
        "\n",
        "# Load the email dataset\n",
        "data = pd.read_csv('email_dataset.csv')\n",
        "\n",
        "# Split data into training and testing sets\n",
        "X_train, X_test, y_train, y_test = train_test_split(data['text'], data['category'], test_size=0.2, random_state=42)\n",
        "\n",
        "# Convert email text to numerical features using CountVectorizer\n",
        "vectorizer = CountVectorizer()\n",
        "X_train_vectorized = vectorizer.fit_transform(X_train)\n",
        "X_test_vectorized = vectorizer.transform(X_test)\n",
        "\n",
        "# Train the Naive Bayes classifier\n",
        "classifier = MultinomialNB()\n",
        "classifier.fit(X_train_vectorized, y_train)\n",
        "\n",
        "# Make predictions on new emails\n",
        "new_emails = [\n",
        "    \"Urgent: Project deadline extension\",\n",
        "    \"Family gathering this Sunday\",\n",
        "    \"Limited time offer: Buy one, get one free\"\n",
        "]\n",
        "\n",
        "new_emails_vectorized = vectorizer.transform(new_emails)\n",
        "predicted_categories = classifier.predict(new_emails_vectorized)\n",
        "\n",
        "# Print predicted categories for new emails\n",
        "for email, category in zip(new_emails, predicted_categories):\n",
        "    print(f\"Email: '{email}' => Predicted Category: '{category}'\")"
      ]
    }
  ]
}